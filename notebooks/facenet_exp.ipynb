{
  "cells": [
    {
      "cell_type": "markdown",
      "metadata": {
        "id": "iLSEtydm_Jvk"
      },
      "source": [
        "# Experimenting Facenet Pretrained Model"
      ]
    },
    {
      "cell_type": "code",
      "execution_count": 115,
      "metadata": {
        "colab": {
          "base_uri": "https://localhost:8080/"
        },
        "id": "7C180d-l_Jvm",
        "outputId": "f2afe78e-566c-4578-d86e-fc309e5f8b0b"
      },
      "outputs": [
        {
          "name": "stdout",
          "output_type": "stream",
          "text": [
            "The autoreload extension is already loaded. To reload it, use:\n",
            "  %reload_ext autoreload\n"
          ]
        }
      ],
      "source": [
        "%load_ext autoreload\n",
        "%autoreload 2"
      ]
    },
    {
      "cell_type": "code",
      "execution_count": 116,
      "metadata": {
        "colab": {
          "base_uri": "https://localhost:8080/"
        },
        "id": "9hxn1k53CwPO",
        "outputId": "f800486a-ee5a-4629-d506-a9145905df35"
      },
      "outputs": [
        {
          "name": "stdout",
          "output_type": "stream",
          "text": [
            "Training on GPU\n"
          ]
        }
      ],
      "source": [
        "device = torch.device(\"cpu\")\n",
        "\n",
        "if torch.cuda.is_available():\n",
        "   print(\"Training on GPU\")\n",
        "   device = torch.device(\"cuda:0\")"
      ]
    },
    {
      "cell_type": "code",
      "execution_count": 117,
      "metadata": {
        "id": "yO6hH5OF_Jvn"
      },
      "outputs": [],
      "source": [
        "import os\n",
        "import pandas as pd\n",
        "import matplotlib.pyplot as plt\n",
        "import seaborn as sns\n",
        "import torch\n",
        "import torch.nn as nn\n",
        "from torchvision import transforms, datasets\n",
        "from torch.utils.data import DataLoader\n",
        "from torch.utils.data.dataset import random_split\n",
        "from torch.optim import Adam\n",
        "from sklearn.metrics import accuracy_score, confusion_matrix\n",
        "\n",
        "from model import *"
      ]
    },
    {
      "cell_type": "code",
      "execution_count": 118,
      "metadata": {
        "colab": {
          "base_uri": "https://localhost:8080/"
        },
        "id": "pf8w0RmR_Jvn",
        "outputId": "950bf801-0f95-469e-eeca-b32f386af84b"
      },
      "outputs": [
        {
          "data": {
            "text/plain": [
              "<torch._C.Generator at 0x7e843810a710>"
            ]
          },
          "execution_count": 118,
          "metadata": {},
          "output_type": "execute_result"
        }
      ],
      "source": [
        "torch.manual_seed(42)"
      ]
    },
    {
      "cell_type": "code",
      "execution_count": 119,
      "metadata": {
        "id": "AiIkJIqe_Jvo"
      },
      "outputs": [],
      "source": [
        "transforms = transforms.Compose([\n",
        "    transforms.ToTensor(),\n",
        "    transforms.Normalize(mean=[0.485, 0.456, 0.406], std=[0.229, 0.224, 0.225]).to(device)\n",
        "])"
      ]
    },
    {
      "cell_type": "code",
      "execution_count": 120,
      "metadata": {
        "id": "qQGciCsb_Jvo"
      },
      "outputs": [],
      "source": [
        "# data_dir = 'data/real_and_fake_face'\n",
        "\n",
        "full_dataset = datasets.ImageFolder(root=data_dir, transform=transforms)"
      ]
    },
    {
      "cell_type": "code",
      "execution_count": 121,
      "metadata": {
        "id": "-ytF9up1_Jvo"
      },
      "outputs": [],
      "source": [
        "train_split = 0.8\n",
        "\n",
        "train_size = int(train_split * len(full_dataset))\n",
        "test_size = len(full_dataset) - train_size\n",
        "\n",
        "train_data, test_data = random_split(full_dataset, [train_size, test_size])"
      ]
    },
    {
      "cell_type": "code",
      "execution_count": 122,
      "metadata": {
        "id": "nzCcold__Jvp"
      },
      "outputs": [],
      "source": [
        "train_data_loader = DataLoader(train_data, batch_size=32, shuffle=True)\n",
        "test_data_loader = DataLoader(test_data, batch_size=32, shuffle=False)"
      ]
    },
    {
      "cell_type": "code",
      "execution_count": 123,
      "metadata": {
        "colab": {
          "base_uri": "https://localhost:8080/"
        },
        "id": "RI8i-1g8_Jvp",
        "outputId": "c4536f5a-d8dd-4c54-d857-3a58c8bc8f63"
      },
      "outputs": [
        {
          "name": "stdout",
          "output_type": "stream",
          "text": [
            "{'training_fake': 0, 'training_real': 1}\n"
          ]
        }
      ],
      "source": [
        "class_map = full_dataset.class_to_idx\n",
        "print(class_map)"
      ]
    },
    {
      "cell_type": "code",
      "execution_count": 124,
      "metadata": {
        "colab": {
          "base_uri": "https://localhost:8080/",
          "height": 49,
          "referenced_widgets": [
            "c13698e80aa045acaa17ec2a44fff46c",
            "40fc7398ab584b3e9a7a9e06ef469108",
            "8009ec78477040739dd6c2863da614ca",
            "8fb5f047dc14436abac23aa3ab8f6bc9",
            "8ef86677ddb54477b970f25ae9ff3940",
            "41938de2638a474e85f384d59276a763",
            "025a77392f164373bebe7c3d3b3731b7",
            "23afe3041fc94073b1cdaa38e3b5ede8",
            "e8bd64509f2e4dfa99f361a9a3fa5580",
            "13a3c2e1e50846d18ca036281aa87bad",
            "92a8fa8b5e98467a9f263ed6c33da431"
          ]
        },
        "id": "OECySkJi_Jvp",
        "outputId": "d155c767-6f5c-4653-fc9d-85e11617250d"
      },
      "outputs": [
        {
          "data": {
            "application/vnd.jupyter.widget-view+json": {
              "model_id": "c13698e80aa045acaa17ec2a44fff46c",
              "version_major": 2,
              "version_minor": 0
            },
            "text/plain": [
              "  0%|          | 0.00/111M [00:00<?, ?B/s]"
            ]
          },
          "metadata": {},
          "output_type": "display_data"
        }
      ],
      "source": [
        "model = FacenetFineTuned(pretrained='casia-webface').to(device)"
      ]
    },
    {
      "cell_type": "code",
      "execution_count": 125,
      "metadata": {
        "id": "oK-FepL0_Jvp"
      },
      "outputs": [],
      "source": [
        "criterion = nn.BCEWithLogitsLoss()\n",
        "optimizer = Adam(model.parameters())"
      ]
    },
    {
      "cell_type": "code",
      "execution_count": 126,
      "metadata": {
        "colab": {
          "base_uri": "https://localhost:8080/"
        },
        "id": "_wTm5tkP_Jvp",
        "outputId": "be344ec1-29b8-4a1f-f09e-7f2ca6339399"
      },
      "outputs": [
        {
          "name": "stdout",
          "output_type": "stream",
          "text": [
            "Epoch 1/20: Loss: 0.6926685524921791\n",
            "Epoch 2/20: Loss: 0.6914075063724144\n",
            "Epoch 3/20: Loss: 0.68994773719825\n",
            "Epoch 4/20: Loss: 0.69057984679353\n",
            "Epoch 5/20: Loss: 0.6887218508065915\n",
            "Epoch 6/20: Loss: 0.687284342214173\n",
            "Epoch 7/20: Loss: 0.6856198369287977\n",
            "Epoch 8/20: Loss: 0.6834726310243794\n",
            "Epoch 9/20: Loss: 0.6835816455822364\n",
            "Epoch 10/20: Loss: 0.6797653915835362\n",
            "Epoch 11/20: Loss: 0.6802152021258485\n",
            "Epoch 12/20: Loss: 0.6771754236782298\n",
            "Epoch 13/20: Loss: 0.6759820253241295\n",
            "Epoch 14/20: Loss: 0.6758287958070344\n",
            "Epoch 15/20: Loss: 0.6718693048346276\n",
            "Epoch 16/20: Loss: 0.6723285235610663\n",
            "Epoch 17/20: Loss: 0.6714606565587661\n",
            "Epoch 18/20: Loss: 0.6703368507179559\n",
            "Epoch 19/20: Loss: 0.6649393906780318\n",
            "Epoch 20/20: Loss: 0.666903956263673\n"
          ]
        }
      ],
      "source": [
        "# TRAIN LOOP\n",
        "EPOCHS = 20\n",
        "loss_list = []\n",
        "for epoch in range(EPOCHS):\n",
        "    running_loss = 0\n",
        "    for image, label in train_data_loader:\n",
        "        image = image.to(device)\n",
        "        label = label.to(device)\n",
        "\n",
        "        optimizer.zero_grad()\n",
        "\n",
        "        outputs = model(image)\n",
        "\n",
        "        loss = criterion(outputs, label.unsqueeze(1).float())\n",
        "\n",
        "        loss.backward()\n",
        "\n",
        "        optimizer.step()\n",
        "\n",
        "        running_loss += loss.item()\n",
        "\n",
        "    loss_list.append(running_loss/len(train_data_loader))\n",
        "    print(f\"Epoch {epoch + 1}/{EPOCHS}: Loss: {running_loss/len(train_data_loader)}\")"
      ]
    },
    {
      "cell_type": "code",
      "execution_count": 127,
      "metadata": {
        "id": "eVMBaZ6G_Jvp"
      },
      "outputs": [],
      "source": [
        "PATH = 'facenetfinetuned.pth'\n",
        "\n",
        "torch.save(model.state_dict(), PATH)"
      ]
    },
    {
      "cell_type": "code",
      "execution_count": 129,
      "metadata": {
        "colab": {
          "base_uri": "https://localhost:8080/",
          "height": 487
        },
        "id": "2m4RoxTB_Jvp",
        "outputId": "57155d14-59e5-44e4-d0aa-8d3e331f96fc"
      },
      "outputs": [
        {
          "data": {
            "image/png": "[encoded data removed]",
            "text/plain": [
              "<Figure size 500x500 with 1 Axes>"
            ]
          },
          "metadata": {},
          "output_type": "display_data"
        }
      ],
      "source": [
        "plt.figure(figsize=(5, 5))\n",
        "plt.plot(list(range(1, 21)), loss_list)\n",
        "plt.title(\"Training Loss\")\n",
        "plt.xlabel(\"Epoch\")\n",
        "plt.ylabel(\"Loss\")\n",
        "plt.show()"
      ]
    },
    {
      "cell_type": "code",
      "execution_count": 130,
      "metadata": {
        "colab": {
          "base_uri": "https://localhost:8080/"
        },
        "id": "FeLkVZGc_Jvq",
        "outputId": "01c5cfdd-7961-42a0-9c8f-0874216b3a10"
      },
      "outputs": [
        {
          "name": "stdout",
          "output_type": "stream",
          "text": [
            "Model test accuracy: 0.5892\n"
          ]
        }
      ],
      "source": [
        "model.eval()\n",
        "\n",
        "pred_labels = []\n",
        "true_labels = []\n",
        "\n",
        "for image, label in test_data_loader:\n",
        "\n",
        "    image = image.to(device)\n",
        "    label = label.to(device)\n",
        "\n",
        "    outputs = model(image)\n",
        "    outputs_proba = torch.sigmoid(outputs)\n",
        "    outputs_class = (outputs_proba > 0.5).to(torch.int)\n",
        "\n",
        "    true_labels.extend(label.cpu().numpy())\n",
        "    pred_labels.extend(outputs_class.squeeze().cpu().numpy())\n",
        "\n",
        "\n",
        "accuracy = accuracy_score(true_labels, pred_labels)\n",
        "print(f\"Model test accuracy: {accuracy:.4f}\")"
      ]
    },
    {
      "cell_type": "code",
      "execution_count": 131,
      "metadata": {
        "colab": {
          "base_uri": "https://localhost:8080/",
          "height": 487
        },
        "id": "mZBajRzc_Jvq",
        "outputId": "bc885ce0-287b-45fc-8448-47226c96ddb8"
      },
      "outputs": [
        {
          "data": {
            "image/png": "[encoded data removed]",
            "text/plain": [
              "<Figure size 500x500 with 2 Axes>"
            ]
          },
          "metadata": {},
          "output_type": "display_data"
        }
      ],
      "source": [
        "class_map = full_dataset.class_to_idx\n",
        "class_mapping = {v: k for k, v in class_map.items()}\n",
        "\n",
        "true_class_names = [class_mapping[x] for x in true_labels]\n",
        "pred_class_names = [class_mapping[x] for x in pred_labels]\n",
        "\n",
        "conf_mat = confusion_matrix(true_class_names, pred_class_names, labels=list(class_mapping.values()))\n",
        "\n",
        "plt.figure(figsize=(5, 5))\n",
        "sns.heatmap(conf_mat, annot= True, fmt='d', cmap='Blues', xticklabels=list(class_mapping.values()), yticklabels=list(class_mapping.values()))\n",
        "plt.yticks(rotation=0)\n",
        "plt.xlabel(\"Predicted labels\")\n",
        "plt.ylabel(\"True labels\")\n",
        "plt.title(\"Confusion Matrix\")\n",
        "plt.show()"
      ]
    }
  ],
  "metadata": {
    "accelerator": "GPU",
    "colab": {
      "gpuType": "T4",
      "provenance": []
    },
    "kernelspec": {
      "display_name": "Python 3",
      "name": "python3"
    },
    "language_info": {
      "codemirror_mode": {
        "name": "ipython",
        "version": 3
      },
      "file_extension": ".py",
      "mimetype": "text/x-python",
      "name": "python",
      "nbconvert_exporter": "python",
      "pygments_lexer": "ipython3",
      "version": "3.10.13"
    },
    "widgets": {
      "application/vnd.jupyter.widget-state+json": {
        "025a77392f164373bebe7c3d3b3731b7": {
          "model_module": "@jupyter-widgets/controls",
          "model_module_version": "1.5.0",
          "model_name": "DescriptionStyleModel",
          "state": {
            "_model_module": "@jupyter-widgets/controls",
            "_model_module_version": "1.5.0",
            "_model_name": "DescriptionStyleModel",
            "_view_count": null,
            "_view_module": "@jupyter-widgets/base",
            "_view_module_version": "1.2.0",
            "_view_name": "StyleView",
            "description_width": ""
          }
        },
        "13a3c2e1e50846d18ca036281aa87bad": {
          "model_module": "@jupyter-widgets/base",
          "model_module_version": "1.2.0",
          "model_name": "LayoutModel",
          "state": {
            "_model_module": "@jupyter-widgets/base",
            "_model_module_version": "1.2.0",
            "_model_name": "LayoutModel",
            "_view_count": null,
            "_view_module": "@jupyter-widgets/base",
            "_view_module_version": "1.2.0",
            "_view_name": "LayoutView",
            "align_content": null,
            "align_items": null,
            "align_self": null,
            "border": null,
            "bottom": null,
            "display": null,
            "flex": null,
            "flex_flow": null,
            "grid_area": null,
            "grid_auto_columns": null,
            "grid_auto_flow": null,
            "grid_auto_rows": null,
            "grid_column": null,
            "grid_gap": null,
            "grid_row": null,
            "grid_template_areas": null,
            "grid_template_columns": null,
            "grid_template_rows": null,
            "height": null,
            "justify_content": null,
            "justify_items": null,
            "left": null,
            "margin": null,
            "max_height": null,
            "max_width": null,
            "min_height": null,
            "min_width": null,
            "object_fit": null,
            "object_position": null,
            "order": null,
            "overflow": null,
            "overflow_x": null,
            "overflow_y": null,
            "padding": null,
            "right": null,
            "top": null,
            "visibility": null,
            "width": null
          }
        },
        "23afe3041fc94073b1cdaa38e3b5ede8": {
          "model_module": "@jupyter-widgets/base",
          "model_module_version": "1.2.0",
          "model_name": "LayoutModel",
          "state": {
            "_model_module": "@jupyter-widgets/base",
            "_model_module_version": "1.2.0",
            "_model_name": "LayoutModel",
            "_view_count": null,
            "_view_module": "@jupyter-widgets/base",
            "_view_module_version": "1.2.0",
            "_view_name": "LayoutView",
            "align_content": null,
            "align_items": null,
            "align_self": null,
            "border": null,
            "bottom": null,
            "display": null,
            "flex": null,
            "flex_flow": null,
            "grid_area": null,
            "grid_auto_columns": null,
            "grid_auto_flow": null,
            "grid_auto_rows": null,
            "grid_column": null,
            "grid_gap": null,
            "grid_row": null,
            "grid_template_areas": null,
            "grid_template_columns": null,
            "grid_template_rows": null,
            "height": null,
            "justify_content": null,
            "justify_items": null,
            "left": null,
            "margin": null,
            "max_height": null,
            "max_width": null,
            "min_height": null,
            "min_width": null,
            "object_fit": null,
            "object_position": null,
            "order": null,
            "overflow": null,
            "overflow_x": null,
            "overflow_y": null,
            "padding": null,
            "right": null,
            "top": null,
            "visibility": null,
            "width": null
          }
        },
        "40fc7398ab584b3e9a7a9e06ef469108": {
          "model_module": "@jupyter-widgets/controls",
          "model_module_version": "1.5.0",
          "model_name": "HTMLModel",
          "state": {
            "_dom_classes": [],
            "_model_module": "@jupyter-widgets/controls",
            "_model_module_version": "1.5.0",
            "_model_name": "HTMLModel",
            "_view_count": null,
            "_view_module": "@jupyter-widgets/controls",
            "_view_module_version": "1.5.0",
            "_view_name": "HTMLView",
            "description": "",
            "description_tooltip": null,
            "layout": "IPY_MODEL_41938de2638a474e85f384d59276a763",
            "placeholder": "​",
            "style": "IPY_MODEL_025a77392f164373bebe7c3d3b3731b7",
            "value": "100%"
          }
        },
        "41938de2638a474e85f384d59276a763": {
          "model_module": "@jupyter-widgets/base",
          "model_module_version": "1.2.0",
          "model_name": "LayoutModel",
          "state": {
            "_model_module": "@jupyter-widgets/base",
            "_model_module_version": "1.2.0",
            "_model_name": "LayoutModel",
            "_view_count": null,
            "_view_module": "@jupyter-widgets/base",
            "_view_module_version": "1.2.0",
            "_view_name": "LayoutView",
            "align_content": null,
            "align_items": null,
            "align_self": null,
            "border": null,
            "bottom": null,
            "display": null,
            "flex": null,
            "flex_flow": null,
            "grid_area": null,
            "grid_auto_columns": null,
            "grid_auto_flow": null,
            "grid_auto_rows": null,
            "grid_column": null,
            "grid_gap": null,
            "grid_row": null,
            "grid_template_areas": null,
            "grid_template_columns": null,
            "grid_template_rows": null,
            "height": null,
            "justify_content": null,
            "justify_items": null,
            "left": null,
            "margin": null,
            "max_height": null,
            "max_width": null,
            "min_height": null,
            "min_width": null,
            "object_fit": null,
            "object_position": null,
            "order": null,
            "overflow": null,
            "overflow_x": null,
            "overflow_y": null,
            "padding": null,
            "right": null,
            "top": null,
            "visibility": null,
            "width": null
          }
        },
        "8009ec78477040739dd6c2863da614ca": {
          "model_module": "@jupyter-widgets/controls",
          "model_module_version": "1.5.0",
          "model_name": "FloatProgressModel",
          "state": {
            "_dom_classes": [],
            "_model_module": "@jupyter-widgets/controls",
            "_model_module_version": "1.5.0",
            "_model_name": "FloatProgressModel",
            "_view_count": null,
            "_view_module": "@jupyter-widgets/controls",
            "_view_module_version": "1.5.0",
            "_view_name": "ProgressView",
            "bar_style": "success",
            "description": "",
            "description_tooltip": null,
            "layout": "IPY_MODEL_23afe3041fc94073b1cdaa38e3b5ede8",
            "max": 115887415,
            "min": 0,
            "orientation": "horizontal",
            "style": "IPY_MODEL_e8bd64509f2e4dfa99f361a9a3fa5580",
            "value": 115887415
          }
        },
        "8ef86677ddb54477b970f25ae9ff3940": {
          "model_module": "@jupyter-widgets/base",
          "model_module_version": "1.2.0",
          "model_name": "LayoutModel",
          "state": {
            "_model_module": "@jupyter-widgets/base",
            "_model_module_version": "1.2.0",
            "_model_name": "LayoutModel",
            "_view_count": null,
            "_view_module": "@jupyter-widgets/base",
            "_view_module_version": "1.2.0",
            "_view_name": "LayoutView",
            "align_content": null,
            "align_items": null,
            "align_self": null,
            "border": null,
            "bottom": null,
            "display": null,
            "flex": null,
            "flex_flow": null,
            "grid_area": null,
            "grid_auto_columns": null,
            "grid_auto_flow": null,
            "grid_auto_rows": null,
            "grid_column": null,
            "grid_gap": null,
            "grid_row": null,
            "grid_template_areas": null,
            "grid_template_columns": null,
            "grid_template_rows": null,
            "height": null,
            "justify_content": null,
            "justify_items": null,
            "left": null,
            "margin": null,
            "max_height": null,
            "max_width": null,
            "min_height": null,
            "min_width": null,
            "object_fit": null,
            "object_position": null,
            "order": null,
            "overflow": null,
            "overflow_x": null,
            "overflow_y": null,
            "padding": null,
            "right": null,
            "top": null,
            "visibility": null,
            "width": null
          }
        },
        "8fb5f047dc14436abac23aa3ab8f6bc9": {
          "model_module": "@jupyter-widgets/controls",
          "model_module_version": "1.5.0",
          "model_name": "HTMLModel",
          "state": {
            "_dom_classes": [],
            "_model_module": "@jupyter-widgets/controls",
            "_model_module_version": "1.5.0",
            "_model_name": "HTMLModel",
            "_view_count": null,
            "_view_module": "@jupyter-widgets/controls",
            "_view_module_version": "1.5.0",
            "_view_name": "HTMLView",
            "description": "",
            "description_tooltip": null,
            "layout": "IPY_MODEL_13a3c2e1e50846d18ca036281aa87bad",
            "placeholder": "​",
            "style": "IPY_MODEL_92a8fa8b5e98467a9f263ed6c33da431",
            "value": " 111M/111M [00:00&lt;00:00, 253MB/s]"
          }
        },
        "92a8fa8b5e98467a9f263ed6c33da431": {
          "model_module": "@jupyter-widgets/controls",
          "model_module_version": "1.5.0",
          "model_name": "DescriptionStyleModel",
          "state": {
            "_model_module": "@jupyter-widgets/controls",
            "_model_module_version": "1.5.0",
            "_model_name": "DescriptionStyleModel",
            "_view_count": null,
            "_view_module": "@jupyter-widgets/base",
            "_view_module_version": "1.2.0",
            "_view_name": "StyleView",
            "description_width": ""
          }
        },
        "c13698e80aa045acaa17ec2a44fff46c": {
          "model_module": "@jupyter-widgets/controls",
          "model_module_version": "1.5.0",
          "model_name": "HBoxModel",
          "state": {
            "_dom_classes": [],
            "_model_module": "@jupyter-widgets/controls",
            "_model_module_version": "1.5.0",
            "_model_name": "HBoxModel",
            "_view_count": null,
            "_view_module": "@jupyter-widgets/controls",
            "_view_module_version": "1.5.0",
            "_view_name": "HBoxView",
            "box_style": "",
            "children": [
              "IPY_MODEL_40fc7398ab584b3e9a7a9e06ef469108",
              "IPY_MODEL_8009ec78477040739dd6c2863da614ca",
              "IPY_MODEL_8fb5f047dc14436abac23aa3ab8f6bc9"
            ],
            "layout": "IPY_MODEL_8ef86677ddb54477b970f25ae9ff3940"
          }
        },
        "e8bd64509f2e4dfa99f361a9a3fa5580": {
          "model_module": "@jupyter-widgets/controls",
          "model_module_version": "1.5.0",
          "model_name": "ProgressStyleModel",
          "state": {
            "_model_module": "@jupyter-widgets/controls",
            "_model_module_version": "1.5.0",
            "_model_name": "ProgressStyleModel",
            "_view_count": null,
            "_view_module": "@jupyter-widgets/base",
            "_view_module_version": "1.2.0",
            "_view_name": "StyleView",
            "bar_color": null,
            "description_width": ""
          }
        }
      }
    }
  },
  "nbformat": 4,
  "nbformat_minor": 0
}
